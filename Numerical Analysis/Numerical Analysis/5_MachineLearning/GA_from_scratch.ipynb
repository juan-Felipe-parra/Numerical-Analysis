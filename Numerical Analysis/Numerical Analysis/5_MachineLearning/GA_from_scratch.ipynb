{
  "nbformat": 4,
  "nbformat_minor": 0,
  "metadata": {
    "colab": {
      "name": "GA_from_scratch.ipynb",
      "provenance": [],
      "include_colab_link": true
    },
    "kernelspec": {
      "name": "python3",
      "display_name": "Python 3"
    },
    "language_info": {
      "name": "python"
    }
  },
  "cells": [
    {
      "cell_type": "markdown",
      "metadata": {
        "id": "view-in-github",
        "colab_type": "text"
      },
      "source": [
        "<a href=\"https://colab.research.google.com/github/MarioBolanos/AnalisisNumerico/blob/master/5_MachineLearning/GA_from_scratch.ipynb\" target=\"_parent\"><img src=\"https://colab.research.google.com/assets/colab-badge.svg\" alt=\"Open In Colab\"/></a>"
      ]
    },
    {
      "cell_type": "code",
      "metadata": {
        "colab": {
          "base_uri": "https://localhost:8080/"
        },
        "id": "PiNSLO-SVnuK",
        "outputId": "6e288639-a4b8-4a3d-e519-81de35c1c501"
      },
      "source": [
        "# https://machinelearningmastery.com/simple-genetic-algorithm-from-scratch-in-python/\n",
        "# genetic algorithm search of the one max optimization problem\n",
        "from numpy.random import randint\n",
        "from numpy.random import rand\n",
        " \n",
        "# objective function\n",
        "def onemax(x):\n",
        "\treturn -sum(x)\n",
        " \n",
        "# tournament selection\n",
        "def selection(pop, scores, k=3):\n",
        "\t# first random selection\n",
        "\tselection_ix = randint(len(pop))\n",
        "\tfor ix in randint(0, len(pop), k-1):\n",
        "\t\t# check if better (e.g. perform a tournament)\n",
        "\t\tif scores[ix] < scores[selection_ix]:\n",
        "\t\t\tselection_ix = ix\n",
        "\treturn pop[selection_ix]\n",
        " \n",
        "# crossover two parents to create two children\n",
        "def crossover(p1, p2, r_cross):\n",
        "\t# children are copies of parents by default\n",
        "\tc1, c2 = p1.copy(), p2.copy()\n",
        "\t# check for recombination\n",
        "\tif rand() < r_cross:\n",
        "\t\t# select crossover point that is not on the end of the string\n",
        "\t\tpt = randint(1, len(p1)-2)\n",
        "\t\t# perform crossover\n",
        "\t\tc1 = p1[:pt] + p2[pt:]\n",
        "\t\tc2 = p2[:pt] + p1[pt:]\n",
        "\treturn [c1, c2]\n",
        " \n",
        "# mutation operator\n",
        "def mutation(bitstring, r_mut):\n",
        "\tfor i in range(len(bitstring)):\n",
        "\t\t# check for a mutation\n",
        "\t\tif rand() < r_mut:\n",
        "\t\t\t# flip the bit\n",
        "\t\t\tbitstring[i] = 1 - bitstring[i]\n",
        " \n",
        "# genetic algorithm\n",
        "def genetic_algorithm(objective, n_bits, n_iter, n_pop, r_cross, r_mut):\n",
        "\t# initial population of random bitstring\n",
        "\tpop = [randint(0, 2, n_bits).tolist() for _ in range(n_pop)]\n",
        "\t# keep track of best solution\n",
        "\tbest, best_eval = 0, objective(pop[0])\n",
        "\t# enumerate generations\n",
        "\tfor gen in range(n_iter):\n",
        "\t\t# evaluate all candidates in the population\n",
        "\t\tscores = [objective(c) for c in pop]\n",
        "\t\t# check for new best solution\n",
        "\t\tfor i in range(n_pop):\n",
        "\t\t\tif scores[i] < best_eval:\n",
        "\t\t\t\tbest, best_eval = pop[i], scores[i]\n",
        "\t\t\t\tprint(\">%d, new best f(%s) = %.3f\" % (gen,  pop[i], scores[i]))\n",
        "\t\t# select parents\n",
        "\t\tselected = [selection(pop, scores) for _ in range(n_pop)]\n",
        "\t\t# create the next generation\n",
        "\t\tchildren = list()\n",
        "\t\tfor i in range(0, n_pop, 2):\n",
        "\t\t\t# get selected parents in pairs\n",
        "\t\t\tp1, p2 = selected[i], selected[i+1]\n",
        "\t\t\t# crossover and mutation\n",
        "\t\t\tfor c in crossover(p1, p2, r_cross):\n",
        "\t\t\t\t# mutation\n",
        "\t\t\t\tmutation(c, r_mut)\n",
        "\t\t\t\t# store for next generation\n",
        "\t\t\t\tchildren.append(c)\n",
        "\t\t# replace population\n",
        "\t\tpop = children\n",
        "\treturn [best, best_eval]\n",
        " \n",
        "# define the total iterations\n",
        "n_iter = 100\n",
        "# bits\n",
        "n_bits = 20\n",
        "# define the population size\n",
        "n_pop = 100\n",
        "# crossover rate\n",
        "r_cross = 0.9\n",
        "# mutation rate\n",
        "r_mut = 1.0 / float(n_bits)\n",
        "# perform the genetic algorithm search\n",
        "best, score = genetic_algorithm(onemax, n_bits, n_iter, n_pop, r_cross, r_mut)\n",
        "print('Done!')\n",
        "print('f(%s) = %f' % (best, score))"
      ],
      "execution_count": null,
      "outputs": [
        {
          "output_type": "stream",
          "text": [
            ">0, new best f([0, 1, 1, 1, 0, 1, 1, 1, 1, 1, 0, 0, 0, 1, 0, 1, 0, 0, 1, 1]) = -12.000\n",
            ">0, new best f([1, 0, 1, 1, 1, 0, 1, 0, 1, 0, 0, 1, 0, 1, 1, 1, 1, 1, 1, 0]) = -13.000\n",
            ">0, new best f([1, 1, 0, 0, 1, 1, 1, 1, 0, 0, 1, 1, 1, 1, 0, 1, 0, 1, 1, 1]) = -14.000\n",
            ">0, new best f([1, 1, 1, 1, 1, 0, 1, 1, 1, 0, 0, 1, 1, 1, 0, 1, 1, 1, 1, 0]) = -15.000\n",
            ">2, new best f([1, 1, 1, 1, 1, 1, 1, 0, 1, 1, 1, 1, 0, 1, 1, 0, 1, 1, 1, 0]) = -16.000\n",
            ">4, new best f([1, 1, 1, 1, 1, 1, 1, 1, 1, 1, 1, 0, 1, 1, 1, 0, 1, 1, 1, 0]) = -17.000\n",
            ">5, new best f([1, 1, 1, 1, 1, 1, 0, 1, 0, 1, 1, 1, 1, 1, 1, 1, 1, 1, 1, 1]) = -18.000\n",
            ">6, new best f([1, 1, 1, 1, 1, 1, 1, 1, 1, 1, 1, 1, 1, 1, 1, 0, 1, 1, 1, 1]) = -19.000\n",
            ">9, new best f([1, 1, 1, 1, 1, 1, 1, 1, 1, 1, 1, 1, 1, 1, 1, 1, 1, 1, 1, 1]) = -20.000\n",
            "Done!\n",
            "f([1, 1, 1, 1, 1, 1, 1, 1, 1, 1, 1, 1, 1, 1, 1, 1, 1, 1, 1, 1]) = -20.000000\n"
          ],
          "name": "stdout"
        }
      ]
    },
    {
      "cell_type": "code",
      "metadata": {
        "colab": {
          "base_uri": "https://localhost:8080/"
        },
        "id": "dQIPjzP3XFR4",
        "outputId": "bac9510d-6982-4b29-9a58-3cb9f0863026"
      },
      "source": [
        "import numpy as np\n",
        "from numpy.random import randint\n",
        "print(randint(0,10,30))\n",
        "pop = [randint(0, 2, 10).tolist() for _ in range(10)]\n",
        "print(pop[0])\n",
        "print(np.size(pop))\n",
        "for i in pop:\n",
        " print(i)"
      ],
      "execution_count": null,
      "outputs": [
        {
          "output_type": "stream",
          "text": [
            "[5 5 3 5 7 7 1 4 5 9 3 5 7 3 8 2 5 9 9 2 0 9 5 9 4 4 4 4 8 1]\n",
            "[0, 1, 1, 0, 0, 0, 0, 0, 1, 1]\n",
            "100\n",
            "[0, 1, 1, 0, 0, 0, 0, 0, 1, 1]\n",
            "[1, 1, 0, 1, 0, 1, 0, 0, 1, 0]\n",
            "[1, 0, 0, 1, 1, 0, 1, 0, 0, 0]\n",
            "[1, 0, 1, 0, 0, 1, 0, 1, 1, 0]\n",
            "[0, 0, 0, 0, 1, 1, 0, 1, 0, 1]\n",
            "[1, 0, 1, 1, 1, 1, 1, 0, 1, 1]\n",
            "[0, 0, 1, 1, 1, 0, 0, 1, 1, 1]\n",
            "[0, 1, 1, 1, 0, 0, 0, 1, 1, 1]\n",
            "[0, 1, 1, 0, 0, 1, 0, 1, 1, 0]\n",
            "[1, 0, 0, 1, 0, 1, 1, 1, 1, 1]\n"
          ],
          "name": "stdout"
        }
      ]
    },
    {
      "cell_type": "code",
      "metadata": {
        "id": "OTCVKcBeaVZW"
      },
      "source": [
        ""
      ],
      "execution_count": null,
      "outputs": []
    },
    {
      "cell_type": "code",
      "metadata": {
        "colab": {
          "base_uri": "https://localhost:8080/"
        },
        "id": "TAJNNT4eWfdq",
        "outputId": "c68b0166-112e-4b28-efd9-7823a0a27cf6"
      },
      "source": [
        "# https://machinelearningmastery.com/simple-genetic-algorithm-from-scratch-in-python/\n",
        "# genetic algorithm search for continuous function optimization\n",
        "from numpy.random import randint\n",
        "from numpy.random import rand\n",
        " \n",
        "# objective function\n",
        "def objective(x):\n",
        "\treturn x[0]**2.0 + x[1]**2.0\n",
        " \n",
        "# decode bitstring to numbers\n",
        "def decode(bounds, n_bits, bitstring):\n",
        "\tdecoded = list()\n",
        "\tlargest = 2**n_bits\n",
        "\tfor i in range(len(bounds)):\n",
        "\t\t# extract the substring\n",
        "\t\tstart, end = i * n_bits, (i * n_bits)+n_bits\n",
        "\t\tsubstring = bitstring[start:end]\n",
        "\t\t# convert bitstring to a string of chars\n",
        "\t\tchars = ''.join([str(s) for s in substring])\n",
        "\t\t# convert string to integer\n",
        "\t\tinteger = int(chars, 2)\n",
        "\t\t# scale integer to desired range\n",
        "\t\tvalue = bounds[i][0] + (integer/largest) * (bounds[i][1] - bounds[i][0])\n",
        "\t\t# store\n",
        "\t\tdecoded.append(value)\n",
        "\treturn decoded\n",
        " \n",
        "# tournament selection\n",
        "def selection(pop, scores, k=3):\n",
        "\t# first random selection\n",
        "\tselection_ix = randint(len(pop))\n",
        "\tfor ix in randint(0, len(pop), k-1):\n",
        "\t\t# check if better (e.g. perform a tournament)\n",
        "\t\tif scores[ix] < scores[selection_ix]:\n",
        "\t\t\tselection_ix = ix\n",
        "\treturn pop[selection_ix]\n",
        " \n",
        "# crossover two parents to create two children\n",
        "def crossover(p1, p2, r_cross):\n",
        "\t# children are copies of parents by default\n",
        "\tc1, c2 = p1.copy(), p2.copy()\n",
        "\t# check for recombination\n",
        "\tif rand() < r_cross:\n",
        "\t\t# select crossover point that is not on the end of the string\n",
        "\t\tpt = randint(1, len(p1)-2)\n",
        "\t\t# perform crossover\n",
        "\t\tc1 = p1[:pt] + p2[pt:]\n",
        "\t\tc2 = p2[:pt] + p1[pt:]\n",
        "\treturn [c1, c2]\n",
        " \n",
        "# mutation operator\n",
        "def mutation(bitstring, r_mut):\n",
        "\tfor i in range(len(bitstring)):\n",
        "\t\t# check for a mutation\n",
        "\t\tif rand() < r_mut:\n",
        "\t\t\t# flip the bit\n",
        "\t\t\tbitstring[i] = 1 - bitstring[i]\n",
        " \n",
        "# genetic algorithm\n",
        "def genetic_algorithm(objective, bounds, n_bits, n_iter, n_pop, r_cross, r_mut):\n",
        "\t# initial population of random bitstring\n",
        "\tpop = [randint(0, 2, n_bits*len(bounds)).tolist() for _ in range(n_pop)]\n",
        "\t# keep track of best solution\n",
        "\tbest, best_eval = 0, objective(decode(bounds, n_bits, pop[0]))\n",
        "\t# enumerate generations\n",
        "\tfor gen in range(n_iter):\n",
        "\t\t# decode population\n",
        "\t\tdecoded = [decode(bounds, n_bits, p) for p in pop]\n",
        "\t\t# evaluate all candidates in the population\n",
        "\t\tscores = [objective(d) for d in decoded]\n",
        "\t\t# check for new best solution\n",
        "\t\tfor i in range(n_pop):\n",
        "\t\t\tif scores[i] < best_eval:\n",
        "\t\t\t\tbest, best_eval = pop[i], scores[i]\n",
        "\t\t\t\tprint(\">%d, new best f(%s) = %f\" % (gen,  decoded[i], scores[i]))\n",
        "\t\t# select parents\n",
        "\t\tselected = [selection(pop, scores) for _ in range(n_pop)]\n",
        "\t\t# create the next generation\n",
        "\t\tchildren = list()\n",
        "\t\tfor i in range(0, n_pop, 2):\n",
        "\t\t\t# get selected parents in pairs\n",
        "\t\t\tp1, p2 = selected[i], selected[i+1]\n",
        "\t\t\t# crossover and mutation\n",
        "\t\t\tfor c in crossover(p1, p2, r_cross):\n",
        "\t\t\t\t# mutation\n",
        "\t\t\t\tmutation(c, r_mut)\n",
        "\t\t\t\t# store for next generation\n",
        "\t\t\t\tchildren.append(c)\n",
        "\t\t# replace population\n",
        "\t\tpop = children\n",
        "\treturn [best, best_eval]\n",
        " \n",
        "# define range for input\n",
        "bounds = [[-5.0, 5.0], [-5.0, 5.0]]\n",
        "# define the total iterations\n",
        "n_iter = 100\n",
        "# bits per variable\n",
        "n_bits = 16\n",
        "# define the population size\n",
        "n_pop = 100\n",
        "# crossover rate\n",
        "r_cross = 0.9\n",
        "# mutation rate\n",
        "r_mut = 1.0 / (float(n_bits) * len(bounds))\n",
        "# perform the genetic algorithm search\n",
        "best, score = genetic_algorithm(objective, bounds, n_bits, n_iter, n_pop, r_cross, r_mut)\n",
        "print('Done!')\n",
        "decoded = decode(bounds, n_bits, best)\n",
        "print('f(%s) = %f' % (decoded, score))"
      ],
      "execution_count": null,
      "outputs": [
        {
          "output_type": "stream",
          "text": [
            ">0, new best f([2.47802734375, 1.74102783203125]) = 9.171797\n",
            ">0, new best f([-2.458343505859375, -0.2532958984375]) = 6.107612\n",
            ">0, new best f([0.737762451171875, -2.003936767578125]) = 4.560056\n",
            ">0, new best f([-0.24322509765625, 1.408233642578125]) = 2.042280\n",
            ">0, new best f([-1.111297607421875, 0.426788330078125]) = 1.417131\n",
            ">0, new best f([-0.58074951171875, 0.024871826171875]) = 0.337889\n",
            ">1, new best f([-0.24322509765625, 0.158233642578125]) = 0.084196\n",
            ">2, new best f([0.04791259765625, -0.25238037109375]) = 0.065991\n",
            ">2, new best f([-0.24322509765625, 0.024871826171875]) = 0.059777\n",
            ">3, new best f([0.03997802734375, 0.024566650390625]) = 0.002202\n",
            ">8, new best f([0.04425048828125, 0.00396728515625]) = 0.001974\n",
            ">8, new best f([0.00518798828125, 0.041351318359375]) = 0.001737\n",
            ">9, new best f([0.03936767578125, 0.00396728515625]) = 0.001566\n",
            ">10, new best f([0.00518798828125, 0.00457763671875]) = 0.000048\n",
            ">17, new best f([0.0048828125, 0.00457763671875]) = 0.000045\n",
            ">18, new best f([0.0048828125, 0.00274658203125]) = 0.000031\n",
            ">18, new best f([0.0048828125, 0.00244140625]) = 0.000030\n",
            ">22, new best f([0.001220703125, 0.00030517578125]) = 0.000002\n",
            ">25, new best f([0.0, 0.001068115234375]) = 0.000001\n",
            ">26, new best f([0.0, 0.00030517578125]) = 0.000000\n",
            ">29, new best f([0.0, 0.0]) = 0.000000\n",
            "Done!\n",
            "f([0.0, 0.0]) = 0.000000\n"
          ],
          "name": "stdout"
        }
      ]
    },
    {
      "cell_type": "code",
      "metadata": {
        "id": "TFuJgpwGWgHy"
      },
      "source": [
        ""
      ],
      "execution_count": null,
      "outputs": []
    }
  ]
}