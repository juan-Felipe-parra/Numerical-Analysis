{
  "nbformat": 4,
  "nbformat_minor": 0,
  "metadata": {
    "kernelspec": {
      "display_name": "Python 3",
      "language": "python",
      "name": "python3"
    },
    "language_info": {
      "codemirror_mode": {
        "name": "ipython",
        "version": 3
      },
      "file_extension": ".py",
      "mimetype": "text/x-python",
      "name": "python",
      "nbconvert_exporter": "python",
      "pygments_lexer": "ipython3",
      "version": "3.6.1"
    },
    "colab": {
      "name": "Least_Squares_Optimization.ipynb.",
      "provenance": [],
      "include_colab_link": true
    }
  },
  "cells": [
    {
      "cell_type": "markdown",
      "metadata": {
        "id": "view-in-github",
        "colab_type": "text"
      },
      "source": [
        "<a href=\"https://colab.research.google.com/github/MarioBolanos/AnalisisNumerico/blob/master/3_SetConstrainedOptimization/Least_Squares_Optimization_ipynb_.ipynb\" target=\"_parent\"><img src=\"https://colab.research.google.com/assets/colab-badge.svg\" alt=\"Open In Colab\"/></a>"
      ]
    },
    {
      "cell_type": "code",
      "metadata": {
        "id": "AEkHmr14Ha03"
      },
      "source": [
        "%matplotlib inline"
      ],
      "execution_count": null,
      "outputs": []
    },
    {
      "cell_type": "code",
      "metadata": {
        "id": "EtyB_mnhHa07"
      },
      "source": [
        "import matplotlib.pyplot as plt\n",
        "import numpy as np"
      ],
      "execution_count": null,
      "outputs": []
    },
    {
      "cell_type": "markdown",
      "metadata": {
        "id": "NPksQbwqHa0-"
      },
      "source": [
        "# Least squares optimization\n",
        "\n",
        "Many optimization problems involve minimization of a sum of squared residuals. We will take a look at finding the derivatives for least squares minimization."
      ]
    },
    {
      "cell_type": "markdown",
      "metadata": {
        "id": "7GR9ui-DHa0_"
      },
      "source": [
        "In least squares problems, we usually have $m$ labeled observations $(x_i, y_i)$. We have a model that will predict $y_i$ given $x_i$ for some parameters $\\beta$, $f(x) = X\\beta$. We want to minimize the sum (or average) of squared residuals $r(x_i) = y_i - f(x_i)$. For example, the objective function is usually taken to be \n",
        "\n",
        "$$\n",
        "\\frac{1}{2} \\sum{r(x_i)^2}\n",
        "$$\n",
        "\n",
        "As a concrete example, suppose we want to fit a quadratic function to some observed data. We have\n",
        "\n",
        "$$\n",
        "f(x) = \\beta_0 + \\beta_1 x + \\beta_2 x^2\n",
        "$$\n",
        "\n",
        "We want to minimize the objective function\n",
        "\n",
        "$$\n",
        "L = \\frac{1}{2} \\sum_{i=1}^m (y_i - f(x_i))^2\n",
        "$$\n",
        "\n",
        "Taking derivatives with respect to $\\beta$, we get\n",
        "\n",
        "$$\n",
        "\\frac{dL}{d\\beta} = \n",
        "\\begin{bmatrix}\n",
        "\\sum_{i=1}^m -f(x_i) \\\\\n",
        "\\sum_{i=1}^m -x_i f(x_i) \\\\\n",
        "\\sum_{i=1}^m -x_i^2 f(x_i)\n",
        "\\end{bmatrix}\n",
        "$$\n",
        "\n",
        "\n"
      ]
    },
    {
      "cell_type": "markdown",
      "metadata": {
        "id": "ptaSPjM8Ha1A"
      },
      "source": [
        "## Working with matrices\n",
        "\n",
        "Writing the above system as a matrix, we have $f(x) = X\\beta$, with\n",
        "\n",
        "$$ \n",
        "X = \\begin{bmatrix}\n",
        "1 & x_1 & x_1^2 \\\\\n",
        "1 & x_2 & x_2^2 \\\\\n",
        "\\vdots & \\vdots & \\vdots \\\\\n",
        "1 & x_m & x_m^2 \n",
        "\\end{bmatrix}\n",
        "$$\n",
        "\n",
        "and \n",
        "\n",
        "$$\n",
        "\\beta = \\begin{bmatrix}\n",
        "\\beta_0 \\\\\n",
        "\\beta_1 \\\\\n",
        "_beta_2\n",
        "\\end{bmatrix}\n",
        "$$\n",
        "\n",
        "We want to find the derivative of $\\Vert y - X\\beta \\Vert^2$, so\n",
        "\n",
        "$$\n",
        "\\Vert y - X\\beta \\Vert^2 \\\\\n",
        "= (y - X\\beta)^T(y - X\\beta) \\\\\n",
        "= (y^T - \\beta^TX^T)(y - X\\beta) \\\\\n",
        "= y^Ty - \\beta^TX^Ty -y^TX\\beta + \\beta^TX^TX\\beta\n",
        "$$\n",
        "\n",
        "Taking derivatives with respect to $\\beta^T$ (we do this because the gradient is traditionally a row vector, and we want it as a column vector here), we get\n",
        "\n",
        "$$\n",
        "\\frac{dL}{d\\beta^T} =  X^TX\\beta - X^Ty\n",
        "$$\n",
        "\n",
        "For example, if we are doing gradient descent, the update equation is\n",
        "\n",
        "$$\n",
        "\\beta_{k+1} = \\beta_k + \\alpha (X^TX\\beta - X^Ty)\n",
        "$$\n",
        "\n",
        "Note that if we set the derivative to zero and solve, we get\n",
        "\n",
        "$$\n",
        "X^TX\\beta - X^Ty = 0\n",
        "$$\n",
        "\n",
        "and the normal equations\n",
        "\n",
        "$$\n",
        "\\beta = (X^TX)^{-1}X^Ty\n",
        "$$\n",
        "\n",
        "For large $X$, solving the normal equations can be more expensive than simpler gradient descent. Note that the Levenberg-Marquadt algorithm is often used to optimize least squares problems."
      ]
    },
    {
      "cell_type": "markdown",
      "metadata": {
        "id": "Y8wkScIxHa1A"
      },
      "source": [
        "## Example\n",
        "\n",
        "You are given the following set of data to fit a quadratic polynomial to:\n",
        "\n",
        "```python\n",
        "x = np.arange(10)\n",
        "y = np.array([  1.58873597,   7.55101533,  10.71372171,   7.90123225,\n",
        "                -2.05877605, -12.40257359, -28.64568712, -46.39822281,\n",
        "                -68.15488905, -97.16032044])\n",
        "```\n",
        "\n",
        "Find the least squares solution using gradient descent."
      ]
    },
    {
      "cell_type": "code",
      "metadata": {
        "id": "l_XkP5wTHa1B"
      },
      "source": [
        "x = np.arange(10)\n",
        "y = np.array([  1.58873597,   7.55101533,  10.71372171,   7.90123225,\n",
        "                -2.05877605, -12.40257359, -28.64568712, -46.39822281,\n",
        "                -68.15488905, -97.16032044])"
      ],
      "execution_count": null,
      "outputs": []
    },
    {
      "cell_type": "code",
      "metadata": {
        "id": "-JNyvERGHa1E"
      },
      "source": [
        "def f(x, y, b):\n",
        "    return (b[0] + b[1]*x + b[2]*x**2 - y)\n",
        "\n",
        "def res(x, y, b):\n",
        "    return sum(f(x,y, b)*f(x, y, b))\n",
        "\n",
        "# Elementary form of gradient\n",
        "def grad(x, y, b):\n",
        "    n = len(x)\n",
        "    return np.array([\n",
        "            sum(f(x, y, b)),\n",
        "            sum(x*f(x, y, b)),\n",
        "            sum(x**2*f(x, y, b))\n",
        "    ])\n",
        "\n",
        "# Matrix form of gradient\n",
        "def grad_m(X, y, b):\n",
        "    return X.T@X@b- X.T@y"
      ],
      "execution_count": null,
      "outputs": []
    },
    {
      "cell_type": "code",
      "metadata": {
        "id": "fgqaDmlyHa1H",
        "colab": {
          "base_uri": "https://localhost:8080/",
          "height": 35
        },
        "outputId": "b847f2e4-53d7-42a0-dae9-4f2f2e8a166f"
      },
      "source": [
        "grad(x, y, np.zeros(3))"
      ],
      "execution_count": null,
      "outputs": [
        {
          "output_type": "execute_result",
          "data": {
            "text/plain": [
              "array([  227.0657638 ,  1933.9094954 , 15758.14427298])"
            ]
          },
          "metadata": {
            "tags": []
          },
          "execution_count": 42
        }
      ]
    },
    {
      "cell_type": "code",
      "metadata": {
        "id": "M6AAG9wmHa1K",
        "colab": {
          "base_uri": "https://localhost:8080/",
          "height": 35
        },
        "outputId": "66a0406d-8f9e-4c9a-d319-f4d4b7e8b6fd"
      },
      "source": [
        "X = np.c_[np.ones(len(x)), x, x**2]\n",
        "grad_m(X, y, np.zeros(3))"
      ],
      "execution_count": null,
      "outputs": [
        {
          "output_type": "execute_result",
          "data": {
            "text/plain": [
              "array([  227.0657638 ,  1933.9094954 , 15758.14427298])"
            ]
          },
          "metadata": {
            "tags": []
          },
          "execution_count": 43
        }
      ]
    },
    {
      "cell_type": "code",
      "metadata": {
        "id": "FUfZ_Yp6Ha1N",
        "colab": {
          "base_uri": "https://localhost:8080/",
          "height": 35
        },
        "outputId": "99541c43-c87e-450e-92dd-87216e1ed08f"
      },
      "source": [
        "from scipy.linalg import solve\n",
        "\n",
        "beta1 = solve(X.T@X, X.T@y)\n",
        "beta1"
      ],
      "execution_count": null,
      "outputs": [
        {
          "output_type": "execute_result",
          "data": {
            "text/plain": [
              "array([ 2.55079998,  7.31478229, -2.04118936])"
            ]
          },
          "metadata": {
            "tags": []
          },
          "execution_count": 44
        }
      ]
    },
    {
      "cell_type": "code",
      "metadata": {
        "id": "o652skbTHa1Q"
      },
      "source": [
        "max_iter = 10000"
      ],
      "execution_count": null,
      "outputs": []
    },
    {
      "cell_type": "code",
      "metadata": {
        "id": "iG8-m9DIHa1V",
        "colab": {
          "base_uri": "https://localhost:8080/",
          "height": 35
        },
        "outputId": "d89c4a4a-524f-442e-d3ab-5c6647cef4f2"
      },
      "source": [
        "a = 0.0001 # learning rate\n",
        "beta2 = np.zeros(3)\n",
        "for i in range(max_iter):\n",
        "    beta2 -= a * grad(x, y, beta2)\n",
        "beta2"
      ],
      "execution_count": null,
      "outputs": [
        {
          "output_type": "execute_result",
          "data": {
            "text/plain": [
              "array([ 2.73391723,  7.23152392, -2.03359658])"
            ]
          },
          "metadata": {
            "tags": []
          },
          "execution_count": 45
        }
      ]
    },
    {
      "cell_type": "code",
      "metadata": {
        "id": "1rWmQMunHa1Y",
        "colab": {
          "base_uri": "https://localhost:8080/",
          "height": 90
        },
        "outputId": "fb95fbf1-bfa2-4f5c-e951-bce22250eb35"
      },
      "source": [
        "a = 0.1 # learning rate\n",
        "beta3 = np.zeros(3)\n",
        "for i in range(max_iter):\n",
        "    beta3 -= a * grad_m(X, y, beta3)\n",
        "beta3"
      ],
      "execution_count": null,
      "outputs": [
        {
          "output_type": "stream",
          "text": [
            "/usr/local/lib/python3.6/dist-packages/ipykernel_launcher.py:18: RuntimeWarning: overflow encountered in matmul\n",
            "/usr/local/lib/python3.6/dist-packages/ipykernel_launcher.py:4: RuntimeWarning: invalid value encountered in subtract\n",
            "  after removing the cwd from sys.path.\n"
          ],
          "name": "stderr"
        },
        {
          "output_type": "execute_result",
          "data": {
            "text/plain": [
              "array([nan, nan, nan])"
            ]
          },
          "metadata": {
            "tags": []
          },
          "execution_count": 49
        }
      ]
    },
    {
      "cell_type": "code",
      "metadata": {
        "id": "FCJmNMuUHa1a",
        "colab": {
          "base_uri": "https://localhost:8080/",
          "height": 281
        },
        "outputId": "8acf50d9-07c1-496d-bb16-4cab80528289"
      },
      "source": [
        "titles = ['svd', 'elementary', 'matrix']\n",
        "\n",
        "plt.figure(figsize=(12,4))\n",
        "for i, beta in enumerate([beta1, beta2, beta3], 1):\n",
        "    plt.subplot(1, 3, i)\n",
        "    plt.scatter(x, y, s=30)\n",
        "    plt.plot(x, beta[0] + beta[1]*x + beta[2]*x**2, color='red')\n",
        "    plt.title(titles[i-1])"
      ],
      "execution_count": null,
      "outputs": [
        {
          "output_type": "display_data",
          "data": {
            "image/png": "[encoded data removed]",
            "text/plain": [
              "<Figure size 864x288 with 3 Axes>"
            ]
          },
          "metadata": {
            "tags": [],
            "needs_background": "light"
          }
        }
      ]
    },
    {
      "cell_type": "markdown",
      "metadata": {
        "collapsed": true,
        "id": "9UtqSjfsHa1e"
      },
      "source": [
        "### Curve fitting and least squares optimization\n",
        "\n",
        "As shown above, least squares optimization is the technique most associated with curve fitting. For convenience, `scipy.optimize` provides a `curve_fit` function that uses Levenberg-Marquadt for minimization."
      ]
    },
    {
      "cell_type": "code",
      "metadata": {
        "id": "5sFLh4LYHa1e"
      },
      "source": [
        "from scipy.optimize import curve_fit "
      ],
      "execution_count": null,
      "outputs": []
    },
    {
      "cell_type": "code",
      "metadata": {
        "id": "9kRkszlBHa1h"
      },
      "source": [
        "def logistic4(x, a, b, c, d):\n",
        "    \"\"\"The four paramter logistic function is often used to fit dose-response relationships.\"\"\"\n",
        "    return ((a-d)/(1.0+((x/c)**b))) + d"
      ],
      "execution_count": null,
      "outputs": []
    },
    {
      "cell_type": "code",
      "metadata": {
        "id": "vYCVgMXtHa1j"
      },
      "source": [
        "nobs = 24\n",
        "xdata = np.linspace(0.5, 3.5, nobs)\n",
        "ptrue = [10, 3, 1.5, 12]\n",
        "ydata = logistic4(xdata, *ptrue) + 0.5*np.random.random(nobs)"
      ],
      "execution_count": null,
      "outputs": []
    },
    {
      "cell_type": "code",
      "metadata": {
        "id": "r7ggP5iWHa1n"
      },
      "source": [
        "popt, pcov = curve_fit(logistic4, xdata, ydata) "
      ],
      "execution_count": null,
      "outputs": []
    },
    {
      "cell_type": "code",
      "metadata": {
        "id": "fztNRvWlHa1q",
        "colab": {
          "base_uri": "https://localhost:8080/",
          "height": 108
        },
        "outputId": "a5c48896-ed63-47b6-afff-2d117bb10c6e"
      },
      "source": [
        "perr = yerr=np.sqrt(np.diag(pcov))\n",
        "print('Param\\tTrue\\tEstim (+/- 1 SD)')\n",
        "for p, pt, po, pe  in zip('abcd', ptrue, popt, perr):\n",
        "    print('%s\\t%5.2f\\t%5.2f (+/-%5.2f)' % (p, pt, po, pe))"
      ],
      "execution_count": null,
      "outputs": [
        {
          "output_type": "stream",
          "text": [
            "Param\tTrue\tEstim (+/- 1 SD)\n",
            "a\t10.00\t10.08 (+/- 0.30)\n",
            "b\t 3.00\t 2.65 (+/- 0.94)\n",
            "c\t 1.50\t 1.29 (+/- 0.14)\n",
            "d\t12.00\t12.19 (+/- 0.21)\n"
          ],
          "name": "stdout"
        }
      ]
    },
    {
      "cell_type": "code",
      "metadata": {
        "id": "5nE7O8jnHa1s",
        "colab": {
          "base_uri": "https://localhost:8080/",
          "height": 265
        },
        "outputId": "4ffc7f13-8a93-49af-c9f4-0ead0b4f8891"
      },
      "source": [
        "x = np.linspace(0, 4, 100)\n",
        "y = logistic4(x, *popt)\n",
        "plt.plot(xdata, ydata, 'o')\n",
        "plt.plot(x, y)\n",
        "pass"
      ],
      "execution_count": null,
      "outputs": [
        {
          "output_type": "display_data",
          "data": {
            "image/png": "[encoded data removed]",
            "text/plain": [
              "<Figure size 432x288 with 1 Axes>"
            ]
          },
          "metadata": {
            "tags": [],
            "needs_background": "light"
          }
        }
      ]
    },
    {
      "cell_type": "code",
      "metadata": {
        "id": "6nv2UviHHa1w"
      },
      "source": [
        ""
      ],
      "execution_count": null,
      "outputs": []
    }
  ]
}